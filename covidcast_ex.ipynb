{
 "metadata": {
  "language_info": {
   "codemirror_mode": {
    "name": "ipython",
    "version": 3
   },
   "file_extension": ".py",
   "mimetype": "text/x-python",
   "name": "python",
   "nbconvert_exporter": "python",
   "pygments_lexer": "ipython3",
   "version": "3.8.3"
  },
  "orig_nbformat": 2,
  "kernelspec": {
   "name": "ir",
   "display_name": "R",
   "language": "R"
  }
 },
 "nbformat": 4,
 "nbformat_minor": 2,
 "cells": [
  {
   "cell_type": "code",
   "execution_count": 1,
   "metadata": {},
   "outputs": [
    {
     "output_type": "error",
     "ename": "ERROR",
     "evalue": "Error in library(\"optparse\"): there is no package called 'optparse'\n",
     "traceback": [
      "Error in library(\"optparse\"): there is no package called 'optparse'\nTraceback:\n",
      "1. library(\"optparse\")"
     ]
    }
   ],
   "source": [
    "library(\"optparse\")\n",
    "library(\"dplyr\")\n",
    "library(\"evalcast\")\n",
    "library(\"lubridate\")\n"
   ]
  },
  {
   "cell_type": "code",
   "execution_count": null,
   "metadata": {},
   "outputs": [],
   "source": [
    "\n",
    "option_list = list(\n",
    "    make_option(\n",
    "        c(\"-d\", \"--dir\"),\n",
    "        type = \"character\",\n",
    "        default = \".\",\n",
    "        help = \"Directory to read/write data\",\n",
    "        metavar = \"character\"\n",
    "    )\n",
    ");\n",
    "\n",
    "opt_parser = OptionParser(option_list = option_list);\n",
    "opt = parse_args(opt_parser);\n",
    "\n",
    "prediction_cards_filename = \"predictions_cards.rds\"\n",
    "prediction_cards_filepath = case_when(\n",
    "    !is.null(opt$dir) ~ file.path(opt$dir, prediction_cards_filename),\n",
    "    TRUE~prediction_cards_filename\n",
    ")\n",
    "\n",
    "forecasters = c(get_covidhub_forecaster_names(designations = \"primary\"),\n",
    "                \"COVIDhub-baseline\")\n",
    "locations = covidHubUtils::hub_locations\n",
    "\n",
    "# also includes \"us\", which is national level data\n",
    "state_geos = locations %>%\n",
    "                filter(nchar(.data$geo_value) == 2) %>%\n",
    "                pull(.data$geo_value)\n",
    "signals = c(\"confirmed_incidence_num\",\n",
    "            \"deaths_incidence_num\")"
   ]
  }
 ]
}